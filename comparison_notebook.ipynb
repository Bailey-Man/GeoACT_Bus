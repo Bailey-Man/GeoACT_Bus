{
 "cells": [
  {
   "cell_type": "code",
   "execution_count": 2,
   "id": "498836e4",
   "metadata": {},
   "outputs": [],
   "source": [
    "import runpy\n",
    "import sys\n",
    "import numpy as np\n",
    "import pandas as pd\n",
    "import matplotlib.pyplot as plt\n",
    "import matplotlib as mpl\n",
    "# %matplotlib notebook"
   ]
  },
  {
   "cell_type": "code",
   "execution_count": 3,
   "id": "38e93261",
   "metadata": {},
   "outputs": [],
   "source": [
    "sys.path.insert(0, 'src')\n",
    "from bus import bus_sim"
   ]
  },
  {
   "cell_type": "code",
   "execution_count": 4,
   "id": "7c760cc4",
   "metadata": {},
   "outputs": [
    {
     "name": "stdout",
     "output_type": "stream",
     "text": [
      "finis\n",
      "plot seating complete!\n",
      "ach 20\n",
      "airborne transmission rate 2.700225387237963e-05\n",
      "relative airflow complete!\n",
      "ach 20\n",
      "airborne transmission rate 2.700225387237963e-05\n",
      "model_run complete!\n",
      "av finish\n",
      "ach 20\n",
      "airborne transmission rate 2.700225387237963e-05\n"
     ]
    }
   ],
   "source": [
    "!python av_run.py -l 11.4 -t 30 -s \"full\" -n 56 -m 100 -w 6\n",
    "bus_trip, conc_array, out_mat, chance_nonzero, avg_mat = bus_sim(56, 1, 100, 30, \"full\", 6) # replace default with selected\n",
    "# windows OPEN"
   ]
  },
  {
   "cell_type": "code",
   "execution_count": 7,
   "id": "3687e59e",
   "metadata": {},
   "outputs": [
    {
     "name": "stdout",
     "output_type": "stream",
     "text": [
      "finis\n",
      "plot seating complete!\n",
      "ach 2\n",
      "airborne transmission rate 0.00021351857603223664\n",
      "relative airflow complete!\n",
      "ach 2\n",
      "airborne transmission rate 0.00021351857603223664\n",
      "model_run complete!\n",
      "av finish\n",
      "ach 2\n",
      "airborne transmission rate 0.00021351857603223664\n"
     ]
    }
   ],
   "source": [
    "!python av_run.py -l 11.4 -t 30 -s \"full\" -n 56 -m 100 -w 0\n",
    "bus_trip2, conc_array2, out_mat2, chance_nonzero2, avg_mat2 = bus_sim(56, 1, 100, 30, \"full\", 0) # replace default with selected\n",
    "# windows CLOSED"
   ]
  },
  {
   "cell_type": "code",
   "execution_count": 8,
   "id": "b313bbb9",
   "metadata": {},
   "outputs": [
    {
     "name": "stderr",
     "output_type": "stream",
     "text": [
      "<ipython-input-8-139c065c017d>:3: UserWarning: FixedFormatter should only be used together with FixedLocator\n",
      "  plt.gca().set_xticklabels(['{:.1f}%'.format(x*100) for x in plt.gca().get_xticks()])\n"
     ]
    },
    {
     "data": {
      "image/png": "[encoded data removed]",
      "text/plain": [
       "<Figure size 432x288 with 1 Axes>"
      ]
     },
     "metadata": {
      "needs_background": "light"
     },
     "output_type": "display_data"
    }
   ],
   "source": [
    "pd.Series(bus_trip2[1]).plot.hist(color='red', linewidth=2, edgecolor='black',bins=np.arange(0, .056, .001), alpha=.5)\n",
    "pd.Series(bus_trip[1]).plot.hist(color='blue', linewidth=2, edgecolor='black',bins=np.arange(0, .056, .001), alpha=.5)\n",
    "plt.gca().set_xticklabels(['{:.1f}%'.format(x*100) for x in plt.gca().get_xticks()])\n",
    "# plt.xlim(0, 1)\n",
    "plt.legend(['Windows Closed', 'Windows Open'])\n",
    "plt.xlabel('Mean likelihood of transmission at each step')\n",
    "plt.ylabel('Number of students with this average risk of transmission')\n",
    "plt.savefig('results/windows_56_full.png', dpi=300)\n"
   ]
  },
  {
   "cell_type": "code",
   "execution_count": null,
   "id": "c57d8c8e",
   "metadata": {},
   "outputs": [],
   "source": [
    "pd.Series(bus_trip2[1]).plot.hist(color='red', linewidth=2, edgecolor='black',bins=np.arange(0, .007, .0001), alpha=.5)\n",
    "pd.Series(bus_trip[1]).plot.hist(color='blue', linewidth=2, edgecolor='black',bins=np.arange(0, .007, .0001), alpha=.5)\n",
    "plt.gca().set_xticklabels(['{:.1f}%'.format(x*100) for x in plt.gca().get_xticks()])\n",
    "plt.legend(['Windows Closed', 'Windows Open'])\n",
    "plt.xlabel('Mean likelihood of transmission at each step')\n",
    "plt.ylabel('Number of students with this average risk of transmission')\n",
    "plt.savefig('results/windows_56_full_zoomed.png', dpi=300)\n"
   ]
  },
  {
   "cell_type": "code",
   "execution_count": null,
   "id": "d47c16c4",
   "metadata": {},
   "outputs": [],
   "source": [
    "\n",
    "# pd.Series(bus_trip2[1]).plot.kde(c='green', linewidth=2)#, edgecolor='black')#,bins=np.arange(0, .056, .001))\n",
    "# pd.Series(bus_trip[1]).plot.kde(c='brown', linewidth=2)#, edgecolor='black')#,bins=np.arange(0, .056, .001))\n",
    "pd.Series(bus_trip2[2]).plot.kde(c='red', linewidth=2)#, edgecolor='black')#,bins=np.arange(0, .056, .001))\n",
    "pd.Series(bus_trip[2]).plot.kde(c='blue', linewidth=2)#, edgecolor='black')#,bins=np.arange(0, .056, .001))\n",
    "plt.gca().set_xticklabels(['{:.1f}%'.format(x*100) for x in plt.gca().get_xticks()])\n",
    "plt.legend(['Windows Closed', 'Windows Open'])\n",
    "plt.xlabel('Likelihood of infection', fontsize=15)\n",
    "plt.ylabel('Density of students', fontsize=15)\n",
    "plt.savefig('results/windows_56_full_kde.png', dpi=300)"
   ]
  },
  {
   "cell_type": "code",
   "execution_count": null,
   "id": "ae537bab",
   "metadata": {},
   "outputs": [],
   "source": [
    "pd.Series(bus_trip2[2]).plot.hist(color='red', linewidth=2, edgecolor='black',bins=np.arange(0, .3, .01), alpha=.5)\n",
    "pd.Series(bus_trip[2]).plot.hist(color='blue', linewidth=2, edgecolor='black',bins=np.arange(0, .3, .005), alpha=.5)\n",
    "plt.gca().set_xticklabels(['{:.1f}%'.format(x*100) for x in plt.gca().get_xticks()])\n",
    "plt.legend(['Windows Closed', 'Windows Open'])\n",
    "plt.xlabel('Likelihood of Infection', fontsize=15)\n",
    "plt.ylabel('Number of students', fontsize=15)\n",
    "plt.title('56 Students, Masks 100%, 30 Minutes')\n",
    "# plt.axvline(x=open_56)\n",
    "plt.savefig('results/windows_56_full_triprisk.png', dpi=300)\n",
    "\n",
    "\n",
    "\n",
    "\n",
    "############## THIS THE ONE ######################"
   ]
  },
  {
   "cell_type": "code",
   "execution_count": null,
   "id": "ff2857c7",
   "metadata": {},
   "outputs": [],
   "source": [
    "pd.Series(bus_trip2[2]).plot.hist(color='red', linewidth=2, edgecolor='black',bins=np.arange(0, .03, .001), alpha=.5)\n",
    "pd.Series(bus_trip[2]).plot.hist(color='blue', linewidth=2, edgecolor='black',bins=np.arange(0, .03, .001), alpha=.5)\n",
    "plt.gca().set_xticklabels(['{:.1f}%'.format(x*100) for x in plt.gca().get_xticks()])\n",
    "plt.legend(['Windows Closed', 'Windows Open'])\n",
    "plt.xlabel('Likelihood of Infection', fontsize=15)\n",
    "plt.ylabel('Number of students', fontsize=15)\n",
    "plt.title('56 Students, Masks 100%, 30 Minutes')\n",
    "# plt.axvline(x=open_56)\n",
    "plt.savefig('results/windows_56_full_triprisk_zoom.png', dpi=300)\n"
   ]
  },
  {
   "cell_type": "code",
   "execution_count": null,
   "id": "d459d6b5",
   "metadata": {},
   "outputs": [],
   "source": [
    "open_56 = np.mean(list(bus_trip[2].values())) # o\n",
    "closed_56 = np.mean(list(bus_trip2[2].values())) # c\n",
    "open_28 = np.mean(list(bus_trip3[2].values())) # o\n",
    "closed_28 = np.mean(list(bus_trip4[2].values())) # c\n",
    "print(open_56 / closed_56)\n",
    "print(open_56, closed_56)"
   ]
  },
  {
   "cell_type": "code",
   "execution_count": null,
   "id": "2758a20d",
   "metadata": {},
   "outputs": [],
   "source": [
    "!python av_run.py -l 11.4 -t 30 -s \"zigzag\" -n 28 -m 100 -w 6\n",
    "bus_trip3, conc_array3, out_mat3, chance_nonzero3, avg_mat3 = bus_sim(28, 1, 100, 30, \"zigzag\", 6) # replace default with selected\n",
    "# Windows Open"
   ]
  },
  {
   "cell_type": "code",
   "execution_count": null,
   "id": "8e17b762",
   "metadata": {},
   "outputs": [],
   "source": [
    "!python av_run.py -l 11.4 -t 30 -s \"zigzag\" -n 28 -m 100 -w 0\n",
    "bus_trip4, conc_array4, out_mat4, chance_nonzero4, avg_mat4 = bus_sim(28, 1, 100, 30, \"zigzag\", 0) # replace default with selected\n",
    "# Windows Closed"
   ]
  },
  {
   "cell_type": "code",
   "execution_count": null,
   "id": "64bac06d",
   "metadata": {},
   "outputs": [],
   "source": [
    "pd.Series(bus_trip4[2]).plot.hist(color='red', linewidth=2, edgecolor='black',bins=np.arange(0, .014, .0005), alpha=.5)\n",
    "pd.Series(bus_trip3[2]).plot.hist(color='blue', linewidth=2, edgecolor='black',bins=np.arange(0, .014, .0005), alpha=.5)\n",
    "plt.gca().set_xticklabels(['{:.1f}%'.format(x*100) for x in plt.gca().get_xticks()])\n",
    "plt.legend(['Windows Closed', 'Windows Open'])\n",
    "plt.xlabel('Likelihood of Infection', fontsize=15)\n",
    "plt.ylabel('Number of students', fontsize=15)\n",
    "plt.title('28 Students, Masks 100%, 30 Minutes')\n",
    "plt.savefig('results/windows_28_zigzag_triprisk.png', dpi=300)"
   ]
  },
  {
   "cell_type": "code",
   "execution_count": null,
   "id": "ed3c0e80",
   "metadata": {},
   "outputs": [],
   "source": [
    "\n",
    "print(open_28 / closed_28)\n",
    "print(open_28, closed_28)"
   ]
  },
  {
   "cell_type": "code",
   "execution_count": null,
   "id": "eade67fd",
   "metadata": {},
   "outputs": [],
   "source": [
    "\n",
    "pd.Series(bus_trip4[2]).plot.kde(c='red', linewidth=2)#, bw_method=1)#, edgecolor='black')#,bins=np.arange(0, .056, .001))\n",
    "pd.Series(bus_trip3[2]).plot.kde(c='blue', linewidth=2)#, bw_method=1)#, edgecolor='black')#,bins=np.arange(0, .056, .001))"
   ]
  },
  {
   "cell_type": "code",
   "execution_count": null,
   "id": "3e55896a",
   "metadata": {},
   "outputs": [],
   "source": [
    "# plt.matshow(out_mat3, cmap=\"OrRd\", norm=mpl.colors.LogNorm())\n",
    "# plt.axis('off')\n",
    "# plt.savefig('results/sample_heatmap_avg.png', dpi=300)"
   ]
  },
  {
   "cell_type": "code",
   "execution_count": null,
   "id": "9608c1f3",
   "metadata": {},
   "outputs": [],
   "source": [
    "!python av_run.py -l 11.4 -t 30 -s \"zigzag\" -n 28 -m 100 -w 0\n",
    "bus_trip5, conc_array5, out_mat5, chance_nonzero5, avg_mat5 = bus_sim(28, 1, 100, 30, \"zigzag\", 0) # replace default with selected\n",
    "# Windows Closed"
   ]
  },
  {
   "cell_type": "code",
   "execution_count": null,
   "id": "2fc95b77",
   "metadata": {},
   "outputs": [],
   "source": [
    "!python av_run.py -l 11.4 -t 30 -s \"window\" -n 28 -m 100 -w 0\n",
    "bus_trip6, conc_array6, out_mat6, chance_nonzero6, avg_mat6 = bus_sim(28, 1, 100, 30, \"window\", 0) # replace default with selected\n",
    "# Windows Closed"
   ]
  },
  {
   "cell_type": "code",
   "execution_count": null,
   "id": "085394c9",
   "metadata": {},
   "outputs": [],
   "source": [
    "!python av_run.py -l 11.4 -t 30 -s \"full\" -n 56 -m 100 -w 0\n",
    "bus_trip7, conc_array7, out_mat7, chance_nonzero7, avg_mat7 = bus_sim(56, 1, 100, 30, \"full\", 0) # replace default with selected\n",
    "# Windows Closed"
   ]
  },
  {
   "cell_type": "code",
   "execution_count": null,
   "id": "0c046ca2",
   "metadata": {},
   "outputs": [],
   "source": [
    "fig, ax = plt.subplots()\n",
    "pd.Series(bus_trip7[2]).plot.hist(color='green', linewidth=2, edgecolor='black',bins=np.arange(0, .28, .005), alpha=.5)\n",
    "pd.Series(bus_trip5[2]).plot.hist(color='blue', linewidth=2, edgecolor='black',bins=np.arange(0, .28, .005), alpha=.5)\n",
    "pd.Series(bus_trip6[2]).plot.hist(color='orange', linewidth=2, edgecolor='black',bins=np.arange(0, .28, .005), alpha=.5)\n",
    "plt.legend(['Zigzag seating', 'Window seating', 'Full Occupancy seating'])\n",
    "plt.xlabel('Infection rate')\n",
    "plt.ylabel('Number of Students')\n",
    "plt.title('Seating Comparison')\n",
    "plt.gca().set_xticklabels(['{:.1f}%'.format(x*100) for x in plt.gca().get_xticks()])\n",
    "plt.savefig('results/seating.png', dpi=300)"
   ]
  },
  {
   "cell_type": "code",
   "execution_count": null,
   "id": "8c67d254",
   "metadata": {},
   "outputs": [],
   "source": [
    "fig, ax = plt.subplots()\n",
    "pd.Series(bus_trip7[2]).plot.hist(color='green', linewidth=2, edgecolor='black',bins=np.arange(0, .05, .001), alpha=.7)\n",
    "pd.Series(bus_trip5[2]).plot.hist(color='blue', linewidth=2, edgecolor='black',bins=np.arange(0, .05, .001), alpha=.7)\n",
    "pd.Series(bus_trip6[2]).plot.hist(color='orange', linewidth=2, edgecolor='black',bins=np.arange(0, .05, .001), alpha=.7)\n",
    "plt.legend(['Zigzag seating', 'Window seating', 'Full Occupancy seating'])\n",
    "plt.xlabel('Infection rate')\n",
    "plt.ylabel('Number of Students')\n",
    "plt.title('Seating Comparison')\n",
    "plt.gca().set_xticklabels(['{:.1f}%'.format(x*100) for x in plt.gca().get_xticks()])\n",
    "plt.savefig('results/seating_zoom.png', dpi=300)\n"
   ]
  },
  {
   "cell_type": "code",
   "execution_count": null,
   "id": "c897804f",
   "metadata": {},
   "outputs": [],
   "source": [
    "f = np.mean(list(bus_trip6[2].values())) # o\n",
    "z = np.mean(list(bus_trip7[2].values())) # g\n",
    "w = np.mean(list(bus_trip5[2].values())) # b\n",
    "print(z/w, z, w)\n",
    "print(z/f, z, f)\n",
    "print(z, w, f)\n"
   ]
  },
  {
   "cell_type": "code",
   "execution_count": null,
   "id": "c44a423a",
   "metadata": {},
   "outputs": [],
   "source": [
    "pd.Series(bus_trip7[2]).plot.kde(c='green', linewidth=2)#, bw_method=1)#, edgecolor='black')#,bins=np.arange(0, .056, .001))\n",
    "pd.Series(bus_trip5[2]).plot.kde(c='blue', linewidth=2)#, bw_method=1)#, edgecolor='black')#,bins=np.arange(0, .056, .001))\n",
    "pd.Series(bus_trip6[2]).plot.kde(c='orange', linewidth=2)#, bw_method=1)#, edgecolor='black')#,bins=np.arange(0, .056, .001))\n",
    "plt.xlim(0, .2)\n",
    "plt.xlabel('Infection rate')\n",
    "plt.ylabel('Density of Students')\n",
    "plt.title('KDEplot of seating options')\n",
    "plt.gca().set_xticklabels(['{:.1f}%'.format(x*100) for x in plt.gca().get_xticks()])"
   ]
  },
  {
   "cell_type": "code",
   "execution_count": null,
   "id": "c5ca2a70",
   "metadata": {},
   "outputs": [],
   "source": [
    "# scatter distance vs infection rate for zigzag vs window vs full\n"
   ]
  },
  {
   "cell_type": "code",
   "execution_count": 59,
   "id": "b5eb8e39",
   "metadata": {},
   "outputs": [
    {
     "name": "stdout",
     "output_type": "stream",
     "text": [
      "finis\n",
      "plot seating complete!\n",
      "ach 2\n",
      "airborne transmission rate 0.00021351857603223664\n",
      "relative airflow complete!\n",
      "ach 2\n",
      "airborne transmission rate 0.00021351857603223664\n",
      "model_run complete!\n",
      "av finish\n",
      "ach 2\n",
      "airborne transmission rate 0.00021351857603223664\n",
      "0.026936225220916227\n"
     ]
    }
   ],
   "source": [
    "# masks\n",
    "!python av_run.py -l 11.4 -t 30 -s \"full\" -n 56 -m 100 -w 0\n",
    "bus_trip_, conc_array_, out_mat_, chance_nonzero_, avg_mat_ = bus_sim(56, 1, 1000, 30, \"full\", 0) # replace default with selected\n",
    "# masks 100\n",
    "print(np.mean(list(bus_trip_[2].values())))"
   ]
  },
  {
   "cell_type": "code",
   "execution_count": 60,
   "id": "8a45c658",
   "metadata": {},
   "outputs": [
    {
     "name": "stdout",
     "output_type": "stream",
     "text": [
      "finis\n",
      "plot seating complete!\n",
      "ach 2\n",
      "airborne transmission rate 0.00021351857603223664\n",
      "relative airflow complete!\n",
      "ach 2\n",
      "airborne transmission rate 0.00021351857603223664\n",
      "model_run complete!\n",
      "av finish\n",
      "ach 2\n",
      "airborne transmission rate 0.00021351857603223664\n",
      "0.043893905018686286\n"
     ]
    }
   ],
   "source": [
    "# masks\n",
    "!python av_run.py -l 11.4 -t 30 -s \"full\" -n 56 -m 90 -w 0\n",
    "bus_trip_1, conc_array_1, out_mat_1, chance_nonzero_1, avg_mat_1 = bus_sim(56, .9, 1000, 30, \"full\", 0) # replace default with selected\n",
    "# masks 100\n",
    "\n",
    "print(np.mean(list(bus_trip_1[2].values())))"
   ]
  },
  {
   "cell_type": "code",
   "execution_count": 61,
   "id": "796d381d",
   "metadata": {},
   "outputs": [
    {
     "name": "stdout",
     "output_type": "stream",
     "text": [
      "finis\n",
      "plot seating complete!\n",
      "ach 2\n",
      "airborne transmission rate 0.00021351857603223664\n",
      "relative airflow complete!\n",
      "ach 2\n",
      "airborne transmission rate 0.00021351857603223664\n",
      "model_run complete!\n",
      "av finish\n",
      "ach 2\n",
      "airborne transmission rate 0.00021351857603223664\n",
      "0.03143065337660009\n"
     ]
    }
   ],
   "source": [
    "# masks\n",
    "!python av_run.py -l 11.4 -t 30 -s \"full\" -n 56 -m 80 -w 0\n",
    "bus_trip_2, conc_array_2, out_mat_2, chance_nonzero_2, avg_mat_2 = bus_sim(56, .8, 1000, 30, \"full\", 0) # replace default with selected\n",
    "# masks 100\n",
    "\n",
    "print(np.mean(list(bus_trip_2[2].values())))"
   ]
  },
  {
   "cell_type": "code",
   "execution_count": 62,
   "id": "d7148d17",
   "metadata": {},
   "outputs": [
    {
     "name": "stdout",
     "output_type": "stream",
     "text": [
      "finis\n",
      "plot seating complete!\n",
      "ach 2\n",
      "airborne transmission rate 0.00021351857603223664\n",
      "relative airflow complete!\n",
      "ach 2\n",
      "airborne transmission rate 0.00021351857603223664\n",
      "model_run complete!\n",
      "av finish\n",
      "ach 2\n",
      "airborne transmission rate 0.00021351857603223664\n",
      "0.04089761179215586\n"
     ]
    }
   ],
   "source": [
    "# masks\n",
    "!python av_run.py -l 11.4 -t 30 -s \"full\" -n 56 -m 70 -w 0\n",
    "bus_trip_3, conc_array_3, out_mat_3, chance_nonzero_3, avg_mat_3 = bus_sim(56, .7, 1000, 30, \"full\", 0) # replace default with selected\n",
    "# masks 100\n",
    "\n",
    "print(np.mean(list(bus_trip_3[2].values())))"
   ]
  },
  {
   "cell_type": "code",
   "execution_count": 63,
   "id": "795078bc",
   "metadata": {
    "scrolled": true
   },
   "outputs": [
    {
     "name": "stderr",
     "output_type": "stream",
     "text": [
      "<ipython-input-63-39973f53793b>:10: UserWarning: FixedFormatter should only be used together with FixedLocator\n",
      "  plt.gca().set_xticklabels(['{:.1f}%'.format(x*100) for x in plt.gca().get_xticks()])\n"
     ]
    },
    {
     "data": {
      "image/png": "[encoded data removed]",
      "text/plain": [
       "<Figure size 432x288 with 1 Axes>"
      ]
     },
     "metadata": {
      "needs_background": "light"
     },
     "output_type": "display_data"
    }
   ],
   "source": [
    "fig, ax = plt.subplots()\n",
    "pd.Series(bus_trip_[2]).plot.hist(color='green', linewidth=2, edgecolor='black',bins=np.arange(0, .14, .005), alpha=.5)\n",
    "pd.Series(bus_trip_1[2]).plot.hist(color='yellow', linewidth=2, edgecolor='black',bins=np.arange(0, .14, .005), alpha=.5)\n",
    "pd.Series(bus_trip_2[2]).plot.hist(color='orange', linewidth=2, edgecolor='black',bins=np.arange(0, .14, .005), alpha=.5)\n",
    "pd.Series(bus_trip_3[2]).plot.hist(color='red', linewidth=2, edgecolor='black',bins=np.arange(0, .14, .005), alpha=.5)\n",
    "plt.legend(['Masks 100%', 'Masks 90%', 'Masks 80%', 'Masks 70%'])\n",
    "plt.xlabel('Infection rate')\n",
    "plt.ylabel('Number of Students')\n",
    "plt.title('Mask Wearing Comparison')\n",
    "plt.gca().set_xticklabels(['{:.1f}%'.format(x*100) for x in plt.gca().get_xticks()])\n",
    "plt.savefig('results/masks.png', dpi=300)"
   ]
  },
  {
   "cell_type": "code",
   "execution_count": 64,
   "id": "a15a500f",
   "metadata": {},
   "outputs": [
    {
     "name": "stderr",
     "output_type": "stream",
     "text": [
      "<ipython-input-64-a620731ee2b3>:10: UserWarning: FixedFormatter should only be used together with FixedLocator\n",
      "  plt.gca().set_xticklabels(['{:.1f}%'.format(x*100) for x in plt.gca().get_xticks()])\n"
     ]
    },
    {
     "data": {
      "image/png": "[encoded data removed]",
      "text/plain": [
       "<Figure size 432x288 with 1 Axes>"
      ]
     },
     "metadata": {
      "needs_background": "light"
     },
     "output_type": "display_data"
    }
   ],
   "source": [
    "fig, ax = plt.subplots()\n",
    "pd.Series(bus_trip_[2]).plot.hist(color='green', linewidth=2, edgecolor='black',bins=np.arange(0, .056, .002), alpha=.5)\n",
    "pd.Series(bus_trip_1[2]).plot.hist(color='yellow', linewidth=2, edgecolor='black',bins=np.arange(0, .056, .002), alpha=.5)\n",
    "pd.Series(bus_trip_2[2]).plot.hist(color='orange', linewidth=2, edgecolor='black',bins=np.arange(0, .056, .002), alpha=.5)\n",
    "pd.Series(bus_trip_3[2]).plot.hist(color='red', linewidth=2, edgecolor='black',bins=np.arange(0, .056, .002), alpha=.5)\n",
    "plt.legend(['masks 100%', 'masks 90%', 'masks 80%', 'masks 70%'])\n",
    "plt.xlabel('Infection rate')\n",
    "plt.ylabel('Number of Students')\n",
    "plt.title('Mask Wearing Comparison')\n",
    "plt.gca().set_xticklabels(['{:.1f}%'.format(x*100) for x in plt.gca().get_xticks()])\n",
    "plt.savefig('results/mask_zoom.png', dpi=300)"
   ]
  },
  {
   "cell_type": "code",
   "execution_count": 57,
   "id": "f776d794",
   "metadata": {},
   "outputs": [
    {
     "name": "stdout",
     "output_type": "stream",
     "text": [
      "0.7736350445957862\n",
      "0.7398270398526655\n",
      "100  0.5650922047811726\n",
      "90 0.7304377028013584\n",
      "80  0.9873087403602105\n",
      "70  0.4132652350641309\n"
     ]
    }
   ],
   "source": [
    "print(chance_nonzero_ / chance_nonzero_1)\n",
    "print(chance_nonzero_1 / chance_nonzero_2)\n",
    "print('100  ' + str(chance_nonzero_))\n",
    "print('90 ' + str(chance_nonzero_1))\n",
    "print('80  ' + str(chance_nonzero_2))\n",
    "print('70  ' + str(chance_nonzero_3))"
   ]
  },
  {
   "cell_type": "code",
   "execution_count": 58,
   "id": "96638ec4",
   "metadata": {},
   "outputs": [
    {
     "name": "stdout",
     "output_type": "stream",
     "text": [
      "0.017842137772458293\n",
      "0.029642825314523506\n",
      "0.0662987522269888\n",
      "0.02316892166823741\n"
     ]
    }
   ],
   "source": [
    "m100 = np.mean(list(bus_trip_[2].values())) # o\n",
    "m90 = np.mean(list(bus_trip_1[2].values())) # c\n",
    "m80 = np.mean(list(bus_trip_2[2].values())) # o\n",
    "m70 = np.mean(list(bus_trip_3[2].values())) # o\n",
    "print(m100)\n",
    "print(m90)\n",
    "print(m80)\n",
    "print(m70)"
   ]
  },
  {
   "cell_type": "code",
   "execution_count": 18,
   "id": "5f92105b",
   "metadata": {},
   "outputs": [],
   "source": [
    "from matplotlib.collections import LineCollection"
   ]
  },
  {
   "cell_type": "code",
   "execution_count": 29,
   "id": "8f0348e1",
   "metadata": {},
   "outputs": [
    {
     "name": "stderr",
     "output_type": "stream",
     "text": [
      "<ipython-input-29-728645b66f89>:10: UserWarning: FixedFormatter should only be used together with FixedLocator\n",
      "  plt.gca().set_yticklabels(['{:.1f}%'.format(y*100) for y in plt.gca().get_yticks()])\n"
     ]
    },
    {
     "data": {
      "image/png": "[encoded data removed]",
      "text/plain": [
       "<Figure size 432x288 with 1 Axes>"
      ]
     },
     "metadata": {
      "needs_background": "light"
     },
     "output_type": "display_data"
    }
   ],
   "source": [
    "\n",
    "# c = plt.cm.get_cmap(\"RdYlGn\")\n",
    "x = ['100%', '90%', '80%', '70%']\n",
    "y = [m100, m90, m80, m70]\n",
    "plt.plot(x, y)#, c=c)\n",
    "plt.scatter(['100%', '90%', '80%', '70%'], [m100, m90, m80, m70], s=200, c=['green', 'yellow', 'orange', 'red'])\n",
    "plt.ylim(0, .03)\n",
    "plt.title('Average likelihood of infection for levels of mask wearing')\n",
    "plt.xlabel('Percent of students wearing masks')\n",
    "plt.ylabel('Likelihood of infection')\n",
    "plt.gca().set_yticklabels(['{:.1f}%'.format(y*100) for y in plt.gca().get_yticks()])\n",
    "plt.savefig('results/mask_wearing.png', dpi=300)"
   ]
  },
  {
   "cell_type": "code",
   "execution_count": 21,
   "id": "5bc9cce3",
   "metadata": {},
   "outputs": [
    {
     "ename": "ValueError",
     "evalue": "could not convert string to float: '100%'",
     "output_type": "error",
     "traceback": [
      "\u001b[1;31m---------------------------------------------------------------------------\u001b[0m",
      "\u001b[1;31mValueError\u001b[0m                                Traceback (most recent call last)",
      "\u001b[1;32m<ipython-input-21-188040564f1b>\u001b[0m in \u001b[0;36m<module>\u001b[1;34m\u001b[0m\n\u001b[0;32m      5\u001b[0m \u001b[1;31m# Create a continuous norm to map from data points to colors\u001b[0m\u001b[1;33m\u001b[0m\u001b[1;33m\u001b[0m\u001b[1;33m\u001b[0m\u001b[0m\n\u001b[0;32m      6\u001b[0m \u001b[1;31m# norm = plt.Normalize(dydx.min(), dydx.max())\u001b[0m\u001b[1;33m\u001b[0m\u001b[1;33m\u001b[0m\u001b[1;33m\u001b[0m\u001b[0m\n\u001b[1;32m----> 7\u001b[1;33m \u001b[0mlc\u001b[0m \u001b[1;33m=\u001b[0m \u001b[0mLineCollection\u001b[0m\u001b[1;33m(\u001b[0m\u001b[0msegments\u001b[0m\u001b[1;33m,\u001b[0m \u001b[0mcmap\u001b[0m\u001b[1;33m=\u001b[0m\u001b[1;34m'RdYlGn'\u001b[0m\u001b[1;33m)\u001b[0m\u001b[1;31m#, norm=norm)\u001b[0m\u001b[1;33m\u001b[0m\u001b[1;33m\u001b[0m\u001b[0m\n\u001b[0m\u001b[0;32m      8\u001b[0m \u001b[1;31m# Set the values used for colormapping\u001b[0m\u001b[1;33m\u001b[0m\u001b[1;33m\u001b[0m\u001b[1;33m\u001b[0m\u001b[0m\n\u001b[0;32m      9\u001b[0m \u001b[0mlc\u001b[0m\u001b[1;33m.\u001b[0m\u001b[0mset_array\u001b[0m\u001b[1;33m(\u001b[0m\u001b[0mdydx\u001b[0m\u001b[1;33m)\u001b[0m\u001b[1;33m\u001b[0m\u001b[1;33m\u001b[0m\u001b[0m\n",
      "\u001b[1;32m~\\AppData\\Local\\Programs\\Python\\Python39\\lib\\site-packages\\matplotlib\\collections.py\u001b[0m in \u001b[0;36m__init__\u001b[1;34m(self, segments, zorder, *args, **kwargs)\u001b[0m\n\u001b[0;32m   1463\u001b[0m             \u001b[0mzorder\u001b[0m\u001b[1;33m=\u001b[0m\u001b[0mzorder\u001b[0m\u001b[1;33m,\u001b[0m\u001b[1;33m\u001b[0m\u001b[1;33m\u001b[0m\u001b[0m\n\u001b[0;32m   1464\u001b[0m             **kwargs)\n\u001b[1;32m-> 1465\u001b[1;33m         \u001b[0mself\u001b[0m\u001b[1;33m.\u001b[0m\u001b[0mset_segments\u001b[0m\u001b[1;33m(\u001b[0m\u001b[0msegments\u001b[0m\u001b[1;33m)\u001b[0m\u001b[1;33m\u001b[0m\u001b[1;33m\u001b[0m\u001b[0m\n\u001b[0m\u001b[0;32m   1466\u001b[0m \u001b[1;33m\u001b[0m\u001b[0m\n\u001b[0;32m   1467\u001b[0m     \u001b[1;32mdef\u001b[0m \u001b[0mset_segments\u001b[0m\u001b[1;33m(\u001b[0m\u001b[0mself\u001b[0m\u001b[1;33m,\u001b[0m \u001b[0msegments\u001b[0m\u001b[1;33m)\u001b[0m\u001b[1;33m:\u001b[0m\u001b[1;33m\u001b[0m\u001b[1;33m\u001b[0m\u001b[0m\n",
      "\u001b[1;32m~\\AppData\\Local\\Programs\\Python\\Python39\\lib\\site-packages\\matplotlib\\collections.py\u001b[0m in \u001b[0;36mset_segments\u001b[1;34m(self, segments)\u001b[0m\n\u001b[0;32m   1472\u001b[0m         \u001b[1;32mfor\u001b[0m \u001b[0mseg\u001b[0m \u001b[1;32min\u001b[0m \u001b[0msegments\u001b[0m\u001b[1;33m:\u001b[0m\u001b[1;33m\u001b[0m\u001b[1;33m\u001b[0m\u001b[0m\n\u001b[0;32m   1473\u001b[0m             \u001b[1;32mif\u001b[0m \u001b[1;32mnot\u001b[0m \u001b[0misinstance\u001b[0m\u001b[1;33m(\u001b[0m\u001b[0mseg\u001b[0m\u001b[1;33m,\u001b[0m \u001b[0mnp\u001b[0m\u001b[1;33m.\u001b[0m\u001b[0mma\u001b[0m\u001b[1;33m.\u001b[0m\u001b[0mMaskedArray\u001b[0m\u001b[1;33m)\u001b[0m\u001b[1;33m:\u001b[0m\u001b[1;33m\u001b[0m\u001b[1;33m\u001b[0m\u001b[0m\n\u001b[1;32m-> 1474\u001b[1;33m                 \u001b[0mseg\u001b[0m \u001b[1;33m=\u001b[0m \u001b[0mnp\u001b[0m\u001b[1;33m.\u001b[0m\u001b[0masarray\u001b[0m\u001b[1;33m(\u001b[0m\u001b[0mseg\u001b[0m\u001b[1;33m,\u001b[0m \u001b[0mfloat\u001b[0m\u001b[1;33m)\u001b[0m\u001b[1;33m\u001b[0m\u001b[1;33m\u001b[0m\u001b[0m\n\u001b[0m\u001b[0;32m   1475\u001b[0m             \u001b[0m_segments\u001b[0m\u001b[1;33m.\u001b[0m\u001b[0mappend\u001b[0m\u001b[1;33m(\u001b[0m\u001b[0mseg\u001b[0m\u001b[1;33m)\u001b[0m\u001b[1;33m\u001b[0m\u001b[1;33m\u001b[0m\u001b[0m\n\u001b[0;32m   1476\u001b[0m \u001b[1;33m\u001b[0m\u001b[0m\n",
      "\u001b[1;32m~\\AppData\\Local\\Programs\\Python\\Python39\\lib\\site-packages\\numpy\\core\\_asarray.py\u001b[0m in \u001b[0;36masarray\u001b[1;34m(a, dtype, order, like)\u001b[0m\n\u001b[0;32m    100\u001b[0m         \u001b[1;32mreturn\u001b[0m \u001b[0m_asarray_with_like\u001b[0m\u001b[1;33m(\u001b[0m\u001b[0ma\u001b[0m\u001b[1;33m,\u001b[0m \u001b[0mdtype\u001b[0m\u001b[1;33m=\u001b[0m\u001b[0mdtype\u001b[0m\u001b[1;33m,\u001b[0m \u001b[0morder\u001b[0m\u001b[1;33m=\u001b[0m\u001b[0morder\u001b[0m\u001b[1;33m,\u001b[0m \u001b[0mlike\u001b[0m\u001b[1;33m=\u001b[0m\u001b[0mlike\u001b[0m\u001b[1;33m)\u001b[0m\u001b[1;33m\u001b[0m\u001b[1;33m\u001b[0m\u001b[0m\n\u001b[0;32m    101\u001b[0m \u001b[1;33m\u001b[0m\u001b[0m\n\u001b[1;32m--> 102\u001b[1;33m     \u001b[1;32mreturn\u001b[0m \u001b[0marray\u001b[0m\u001b[1;33m(\u001b[0m\u001b[0ma\u001b[0m\u001b[1;33m,\u001b[0m \u001b[0mdtype\u001b[0m\u001b[1;33m,\u001b[0m \u001b[0mcopy\u001b[0m\u001b[1;33m=\u001b[0m\u001b[1;32mFalse\u001b[0m\u001b[1;33m,\u001b[0m \u001b[0morder\u001b[0m\u001b[1;33m=\u001b[0m\u001b[0morder\u001b[0m\u001b[1;33m)\u001b[0m\u001b[1;33m\u001b[0m\u001b[1;33m\u001b[0m\u001b[0m\n\u001b[0m\u001b[0;32m    103\u001b[0m \u001b[1;33m\u001b[0m\u001b[0m\n\u001b[0;32m    104\u001b[0m \u001b[1;33m\u001b[0m\u001b[0m\n",
      "\u001b[1;31mValueError\u001b[0m: could not convert string to float: '100%'"
     ]
    }
   ],
   "source": [
    "points = np.array([x, y]).T.reshape(-1, 1, 2)\n",
    "segments = np.concatenate([points[:-1], points[1:]], axis=1)\n",
    "\n",
    "\n",
    "# Create a continuous norm to map from data points to colors\n",
    "# norm = plt.Normalize(dydx.min(), dydx.max())\n",
    "lc = LineCollection(segments, cmap='RdYlGn')#, norm=norm)\n",
    "# Set the values used for colormapping\n",
    "lc.set_array(dydx)\n",
    "lc.set_linewidth(2)\n",
    "line = axs[0].add_collection(lc)\n",
    "fig.colorbar(line, ax=axs[0])"
   ]
  },
  {
   "cell_type": "code",
   "execution_count": null,
   "id": "b0f6441c",
   "metadata": {},
   "outputs": [],
   "source": []
  }
 ],
 "metadata": {
  "kernelspec": {
   "display_name": "Python 3",
   "language": "python",
   "name": "python3"
  },
  "language_info": {
   "codemirror_mode": {
    "name": "ipython",
    "version": 3
   },
   "file_extension": ".py",
   "mimetype": "text/x-python",
   "name": "python",
   "nbconvert_exporter": "python",
   "pygments_lexer": "ipython3",
   "version": "3.9.4"
  }
 },
 "nbformat": 4,
 "nbformat_minor": 5
}

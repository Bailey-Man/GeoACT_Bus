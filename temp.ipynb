{
 "cells": [
  {
   "cell_type": "code",
   "execution_count": 3,
   "id": "c8c52fa2",
   "metadata": {},
   "outputs": [],
   "source": [
    "import tkinter as tk\n",
    "from tkinter import ttk\n"
   ]
  },
  {
   "cell_type": "code",
   "execution_count": 4,
   "id": "d112eb19",
   "metadata": {},
   "outputs": [],
   "source": [
    "\n",
    "# root window\n",
    "root = tk.Tk()\n",
    "root.geometry('400x300')\n",
    "root.title('Notebook Demo')\n",
    "\n",
    "# create a notebook\n",
    "notebook = ttk.Notebook(root)\n",
    "notebook.pack(pady=10, expand=True)\n",
    "\n",
    "# create frames\n",
    "frame1 = ttk.Frame(notebook, width=400, height=280)\n",
    "frame2 = ttk.Frame(notebook, width=400, height=280)\n",
    "\n",
    "frame1.pack(fill='both', expand=True)\n",
    "frame2.pack(fill='both', expand=True)\n",
    "\n",
    "# add frames to notebook\n",
    "\n",
    "notebook.add(frame1, text='General Information')\n",
    "notebook.add(frame2, text='Profile')\n",
    "\n",
    "\n",
    "root.mainloop()"
   ]
  },
  {
   "cell_type": "code",
   "execution_count": null,
   "id": "e94e1d9e",
   "metadata": {},
   "outputs": [],
   "source": []
  }
 ],
 "metadata": {
  "kernelspec": {
   "display_name": "Python 3",
   "language": "python",
   "name": "python3"
  },
  "language_info": {
   "codemirror_mode": {
    "name": "ipython",
    "version": 3
   },
   "file_extension": ".py",
   "mimetype": "text/x-python",
   "name": "python",
   "nbconvert_exporter": "python",
   "pygments_lexer": "ipython3",
   "version": "3.9.4"
  }
 },
 "nbformat": 4,
 "nbformat_minor": 5
}

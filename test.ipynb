{
 "cells": [
  {
   "cell_type": "code",
   "execution_count": 1,
   "id": "498836e4",
   "metadata": {},
   "outputs": [],
   "source": [
    "#imports"
   ]
  },
  {
   "cell_type": "code",
   "execution_count": 7,
   "id": "eebe0a15",
   "metadata": {},
   "outputs": [],
   "source": [
    "# this notebook tests ACH change vs infection rate\n",
    "seat_dict_class_small = {i: [] for i in range(25)}\n",
    "seat_dict_class_large = {i: [] for i in range(50)}\n",
    "\n",
    "for i in seat_dict_class_large:\n",
    "    if i % 5 == 0:\n",
    "        x = 1\n",
    "        y = 2\n",
    "    elif i % 5 == 1:\n",
    "        x = 1\n",
    "        y = 2\n",
    "    elif i % 5 == 2:\n",
    "        x = 1\n",
    "        y = 2\n",
    "    elif i % 5 == 3:\n",
    "        x = 1\n",
    "        y = 2\n",
    "    elif i % 5 == 4:\n",
    "        x = 1\n",
    "        y = 2\n",
    "        \n",
    "    seat_dict_class_large[i] = [x, y]    \n"
   ]
  },
  {
   "cell_type": "code",
   "execution_count": 8,
   "id": "f89575dc",
   "metadata": {},
   "outputs": [
    {
     "data": {
      "text/plain": [
       "{0: [1, 2],\n",
       " 1: [1, 2],\n",
       " 2: [1, 2],\n",
       " 3: [1, 2],\n",
       " 4: [1, 2],\n",
       " 5: [1, 2],\n",
       " 6: [1, 2],\n",
       " 7: [1, 2],\n",
       " 8: [1, 2],\n",
       " 9: [1, 2],\n",
       " 10: [1, 2],\n",
       " 11: [1, 2],\n",
       " 12: [1, 2],\n",
       " 13: [1, 2],\n",
       " 14: [1, 2],\n",
       " 15: [1, 2],\n",
       " 16: [1, 2],\n",
       " 17: [1, 2],\n",
       " 18: [1, 2],\n",
       " 19: [1, 2],\n",
       " 20: [1, 2],\n",
       " 21: [1, 2],\n",
       " 22: [1, 2],\n",
       " 23: [1, 2],\n",
       " 24: [1, 2],\n",
       " 25: [1, 2],\n",
       " 26: [1, 2],\n",
       " 27: [1, 2],\n",
       " 28: [1, 2],\n",
       " 29: [1, 2],\n",
       " 30: [1, 2],\n",
       " 31: [1, 2],\n",
       " 32: [1, 2],\n",
       " 33: [1, 2],\n",
       " 34: [1, 2],\n",
       " 35: [1, 2],\n",
       " 36: [1, 2],\n",
       " 37: [1, 2],\n",
       " 38: [1, 2],\n",
       " 39: [1, 2],\n",
       " 40: [1, 2],\n",
       " 41: [1, 2],\n",
       " 42: [1, 2],\n",
       " 43: [1, 2],\n",
       " 44: [1, 2],\n",
       " 45: [1, 2],\n",
       " 46: [1, 2],\n",
       " 47: [1, 2],\n",
       " 48: [1, 2],\n",
       " 49: [1, 2]}"
      ]
     },
     "execution_count": 8,
     "metadata": {},
     "output_type": "execute_result"
    }
   ],
   "source": [
    "seat_dict_class_large"
   ]
  },
  {
   "cell_type": "code",
   "execution_count": null,
   "id": "6dab41b2",
   "metadata": {},
   "outputs": [],
   "source": []
  }
 ],
 "metadata": {
  "kernelspec": {
   "display_name": "Python 3",
   "language": "python",
   "name": "python3"
  },
  "language_info": {
   "codemirror_mode": {
    "name": "ipython",
    "version": 3
   },
   "file_extension": ".py",
   "mimetype": "text/x-python",
   "name": "python",
   "nbconvert_exporter": "python",
   "pygments_lexer": "ipython3",
   "version": "3.9.4"
  }
 },
 "nbformat": 4,
 "nbformat_minor": 5
}
